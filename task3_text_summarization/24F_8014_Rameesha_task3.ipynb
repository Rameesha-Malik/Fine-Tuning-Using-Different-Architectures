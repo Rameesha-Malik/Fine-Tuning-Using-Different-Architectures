{
  "cells": [
    {
      "cell_type": "markdown",
      "source": [
        "Rameesha - MSDS - 24F-8014"
      ],
      "metadata": {
        "id": "vWx5wKXYflOz"
      }
    },
    {
      "cell_type": "markdown",
      "source": [
        "**Task 3: Encoder-Decoder Model (T5) — Text Summarization**"
      ],
      "metadata": {
        "id": "VM1NPew3h2bA"
      }
    },
    {
      "cell_type": "markdown",
      "source": [
        "**Problem:**\n",
        "Fine-tune\tT5\tfor\tsummarizing\tlong\tnews\tarticles\tinto\tconcise summaries.\n",
        "\n",
        "---\n",
        "\n",
        "\n",
        "**Dataset:**\n",
        "https://www.kaggle.com/datasets/gowrishankarp/newspaper-text-summarization-cnn-dailymail\n",
        "\n",
        "---\n",
        "\n",
        "\n",
        "**Objective:**\n",
        "Fine-tune\ta\tpre-trained\tT5\tmodel\t(such\tas\t't5-small'\tor\t't5-base')\ton\tthe\tCNN/DailyMail dataset\tfor\tabstractive\tsummarization.\n",
        "\n",
        "---\n",
        "\n",
        "**Deliverables:**\n",
        "* Preprocessing\tscript\tfor\ttext\tand\tsummaries\n",
        "* Fine-tuning\tcode\tfor\tT5\n",
        "* Evaluation\tusing\tROUGE\tmetrics\n",
        "* Example\toutputs\tcomparing\toriginal\tvs\tsummarized\ttext"
      ],
      "metadata": {
        "id": "8sk0AuDAitcp"
      }
    },
    {
      "cell_type": "code",
      "source": [
        "!pip install -q transformers datasets rouge_score pandas numpy torch\n",
        "\n",
        "import os\n",
        "import pandas as pd\n",
        "import numpy as np\n",
        "import torch\n",
        "from datasets import Dataset\n",
        "from transformers import (\n",
        "    T5Tokenizer,\n",
        "    T5ForConditionalGeneration,\n",
        "    Seq2SeqTrainer,\n",
        "    Seq2SeqTrainingArguments,\n",
        "    DataCollatorForSeq2Seq\n",
        ")\n",
        "from rouge_score import rouge_scorer\n",
        "\n",
        "os.environ[\"WANDB_DISABLED\"] = \"true\""
      ],
      "metadata": {
        "id": "aTs-nd7IiUO1"
      },
      "execution_count": null,
      "outputs": []
    },
    {
      "cell_type": "markdown",
      "source": [
        "**dataset**"
      ],
      "metadata": {
        "id": "QxCa-_PsiiQJ"
      }
    },
    {
      "cell_type": "code",
      "source": [
        "train_data = pd.read_csv('/content/drive/MyDrive/ANLP/project_2/task_3/cnn_dailymail/train.csv')\n",
        "val_data = pd.read_csv('/content/drive/MyDrive/ANLP/project_2/task_3/cnn_dailymail/validation.csv')\n",
        "test_data = pd.read_csv('/content/drive/MyDrive/ANLP/project_2/task_3/cnn_dailymail/test.csv')\n",
        "\n",
        "print(f\"train: {len(train_data)} | val: {len(val_data)} | test: {len(test_data)}\")"
      ],
      "metadata": {
        "colab": {
          "base_uri": "https://localhost:8080/"
        },
        "id": "wp0ou4v4if-W",
        "outputId": "8591e820-55a2-4f27-f6b9-9610f7738ac9"
      },
      "execution_count": null,
      "outputs": [
        {
          "output_type": "stream",
          "name": "stdout",
          "text": [
            "train: 287113 | val: 13368 | test: 11490\n"
          ]
        }
      ]
    },
    {
      "cell_type": "markdown",
      "source": [
        "**data cleaning**"
      ],
      "metadata": {
        "id": "3UriEI2Vjcqu"
      }
    },
    {
      "cell_type": "code",
      "source": [
        "def clean_df(df):\n",
        "    df = df.dropna(subset=['article', 'highlights'])\n",
        "    df = df[df['article'].str.len() >= 100]\n",
        "    df = df[df['highlights'].str.len() >= 10]\n",
        "    return df.reset_index(drop=True)\n",
        "\n",
        "train_data = clean_df(train_data)\n",
        "val_data = clean_df(val_data)\n",
        "test_data = clean_df(test_data)\n",
        "\n",
        "TRAIN_SIZE, VAL_SIZE = 10000, 1000\n",
        "train_data = train_data.head(TRAIN_SIZE)\n",
        "val_data = val_data.head(VAL_SIZE)\n",
        "\n",
        "print(f\"after cleaning → train: {len(train_data)}, val: {len(val_data)}\")"
      ],
      "metadata": {
        "colab": {
          "base_uri": "https://localhost:8080/"
        },
        "id": "vnZvUkxVjfs9",
        "outputId": "507bdfb7-d12a-42ad-d516-80e191b164a3"
      },
      "execution_count": null,
      "outputs": [
        {
          "output_type": "stream",
          "name": "stdout",
          "text": [
            "after cleaning → train: 10000, val: 1000\n"
          ]
        }
      ]
    },
    {
      "cell_type": "markdown",
      "source": [
        "**load t5 model**"
      ],
      "metadata": {
        "id": "iQF4F9s8kK1R"
      }
    },
    {
      "cell_type": "code",
      "source": [
        "\n",
        "MODEL_NAME = \"t5-base\"\n",
        "tokenizer = T5Tokenizer.from_pretrained(MODEL_NAME)\n",
        "model = T5ForConditionalGeneration.from_pretrained(MODEL_NAME)\n",
        "\n",
        "print(\"model loading done\")"
      ],
      "metadata": {
        "colab": {
          "base_uri": "https://localhost:8080/"
        },
        "id": "9ZafjJvaj9rL",
        "outputId": "63f00d7d-7b6e-4817-fa7c-717b84d68ed6"
      },
      "execution_count": null,
      "outputs": [
        {
          "output_type": "stream",
          "name": "stdout",
          "text": [
            "model loading done\n"
          ]
        }
      ]
    },
    {
      "cell_type": "markdown",
      "source": [
        "**tokenization**"
      ],
      "metadata": {
        "id": "ykPpreBMkgVL"
      }
    },
    {
      "cell_type": "code",
      "source": [
        "\n",
        "MAX_INPUT_LEN = 512\n",
        "MAX_TARGET_LEN = 128\n",
        "\n",
        "def tokenize_data(batch):\n",
        "    inputs = [\"summarize: \" + text for text in batch['article']]\n",
        "    model_inputs = tokenizer(inputs, max_length=MAX_INPUT_LEN, truncation=True)\n",
        "    targets = tokenizer(\n",
        "        text_target=batch['highlights'],\n",
        "        max_length=MAX_TARGET_LEN,\n",
        "        truncation=True\n",
        "    )\n",
        "    model_inputs[\"labels\"] = targets[\"input_ids\"]\n",
        "    return model_inputs\n",
        "\n",
        "hf_train = Dataset.from_pandas(train_data[['article', 'highlights']])\n",
        "hf_val = Dataset.from_pandas(val_data[['article', 'highlights']])\n",
        "hf_test = Dataset.from_pandas(test_data[['article', 'highlights']])\n",
        "\n",
        "tokenized_train = hf_train.map(tokenize_data, batched=True, remove_columns=['article', 'highlights'])\n",
        "tokenized_val = hf_val.map(tokenize_data, batched=True, remove_columns=['article', 'highlights'])\n",
        "tokenized_test = hf_test.map(tokenize_data, batched=True, remove_columns=['article', 'highlights'])\n",
        "\n",
        "print(\"tokenization done\")"
      ],
      "metadata": {
        "colab": {
          "base_uri": "https://localhost:8080/",
          "height": 130,
          "referenced_widgets": [
            "7547114825a849769392ff3ef1b68288",
            "8a89a67ad759442799a8c89a4f2481af",
            "ba6045c621484944be91c197af2ab37e",
            "06dfd8783a6b42fe83863b2ff431db23",
            "9ff4be302261449cacb1fdebae6916fe",
            "93afd0c5a0054bfc8f7f6c29f1440535",
            "21a3a63ac2e242caad8627ab6f8417dd",
            "55781d7f25974e9fb3f2b05d02a01bdd",
            "e619a31828d44b8cbe8993835a7ad0cb",
            "e9e136f3330441c4bd10c9a2348b026d",
            "fceb83dcd28f4cebb376861a42c75902",
            "0022bffc7d1940f1bac7b9b6088f0e95",
            "28864d6cd25d44afbdcec6fa2896fd45",
            "d9362519dab5419a923a8b25f8cea6a2",
            "c4dbf3350b2a4c26b05784474ccdbad4",
            "adcbe722ad9a476482ebf0d894bbfec7",
            "a442324650c94306af9ed3af5c808eb6",
            "ecfa3032706c4754a7930d4cd014c772",
            "b76d1be6306e479580bffc2a39c51f00",
            "a7f476560bc54b12b9ac4f420803334b",
            "7d12495ee85c46ffafb986d87f5a6f86",
            "875788f92ac14e50b2759a71bbf95ba0",
            "75e1d01667064eff8a28dfee49696486",
            "b8c1d9d725c646b5b6b12c764dceab02",
            "1a9a70061cde4a7187b9104f3ec4272c",
            "7d2be60aa16e41c8ba46a7c1ec674f2e",
            "01ce84767625450084069037683dac02",
            "f4de4f9e09f24cfbb2bc9c0bc00eb917",
            "80b62db9ac93426ea8a5e325562eb31a",
            "315b71f48b4b41bb8bda7c471fb25a55",
            "976e560bbbf34330838ee984dd99dada",
            "b32cdc87704148e9bcd0122994be3b74",
            "0a9d8b85b1dc4e10b3e1b853a07669b7"
          ]
        },
        "id": "XSgxQXv4kjj8",
        "outputId": "46611136-87e3-4eb6-f15f-42afdee45902"
      },
      "execution_count": null,
      "outputs": [
        {
          "output_type": "display_data",
          "data": {
            "text/plain": [
              "Map:   0%|          | 0/10000 [00:00<?, ? examples/s]"
            ],
            "application/vnd.jupyter.widget-view+json": {
              "version_major": 2,
              "version_minor": 0,
              "model_id": "7547114825a849769392ff3ef1b68288"
            }
          },
          "metadata": {}
        },
        {
          "output_type": "display_data",
          "data": {
            "text/plain": [
              "Map:   0%|          | 0/1000 [00:00<?, ? examples/s]"
            ],
            "application/vnd.jupyter.widget-view+json": {
              "version_major": 2,
              "version_minor": 0,
              "model_id": "0022bffc7d1940f1bac7b9b6088f0e95"
            }
          },
          "metadata": {}
        },
        {
          "output_type": "display_data",
          "data": {
            "text/plain": [
              "Map:   0%|          | 0/11490 [00:00<?, ? examples/s]"
            ],
            "application/vnd.jupyter.widget-view+json": {
              "version_major": 2,
              "version_minor": 0,
              "model_id": "75e1d01667064eff8a28dfee49696486"
            }
          },
          "metadata": {}
        },
        {
          "output_type": "stream",
          "name": "stdout",
          "text": [
            "tokenization done\n"
          ]
        }
      ]
    },
    {
      "cell_type": "code",
      "source": [
        "collator = DataCollatorForSeq2Seq(tokenizer=tokenizer, model=model, padding=True)"
      ],
      "metadata": {
        "id": "ZhG-BRTKk5Xx"
      },
      "execution_count": null,
      "outputs": []
    },
    {
      "cell_type": "markdown",
      "source": [
        "**metric**"
      ],
      "metadata": {
        "id": "DqyqJZQVlfoB"
      }
    },
    {
      "cell_type": "code",
      "source": [
        "rouge = rouge_scorer.RougeScorer(['rouge1','rouge2','rougeL'], use_stemmer=True)\n",
        "\n",
        "def compute_metrics(eval_pred):\n",
        "    preds, labels = eval_pred\n",
        "    decoded_preds = tokenizer.batch_decode(preds, skip_special_tokens=True)\n",
        "    labels = np.where(labels != -100, labels, tokenizer.pad_token_id)\n",
        "    decoded_labels = tokenizer.batch_decode(labels, skip_special_tokens=True)\n",
        "\n",
        "    r1, r2, rL = [], [], []\n",
        "    for p, l in zip(decoded_preds, decoded_labels):\n",
        "        score = rouge.score(l, p)\n",
        "        r1.append(score['rouge1'].fmeasure)\n",
        "        r2.append(score['rouge2'].fmeasure)\n",
        "        rL.append(score['rougeL'].fmeasure)\n",
        "\n",
        "    return {\n",
        "        'rouge1': np.mean(r1) * 100,\n",
        "        'rouge2': np.mean(r2) * 100,\n",
        "        'rougeL': np.mean(rL) * 100\n",
        "    }\n"
      ],
      "metadata": {
        "id": "A9uZFWKRlh7n"
      },
      "execution_count": null,
      "outputs": []
    },
    {
      "cell_type": "markdown",
      "source": [
        "**training**"
      ],
      "metadata": {
        "id": "TMCFsG1nlrQT"
      }
    },
    {
      "cell_type": "code",
      "source": [
        "\n",
        "args = Seq2SeqTrainingArguments(\n",
        "    output_dir=\"./t5_summarization_model\",\n",
        "    num_train_epochs=3,\n",
        "    per_device_train_batch_size=8,\n",
        "    per_device_eval_batch_size=8,\n",
        "    learning_rate=2e-5,\n",
        "    weight_decay=0.01,\n",
        "    eval_strategy=\"epoch\",\n",
        "    save_strategy=\"epoch\",\n",
        "    save_total_limit=2,\n",
        "    load_best_model_at_end=True,\n",
        "    predict_with_generate=True,\n",
        "    fp16=torch.cuda.is_available(),\n",
        "    logging_steps=50,\n",
        "    report_to=\"none\",\n",
        "    metric_for_best_model=\"rougeL\"\n",
        ")\n",
        "\n",
        "trainer = Seq2SeqTrainer(\n",
        "    model=model,\n",
        "    args=args,\n",
        "    train_dataset=tokenized_train,\n",
        "    eval_dataset=tokenized_val,\n",
        "    tokenizer=tokenizer,\n",
        "    data_collator=collator,\n",
        "    compute_metrics=compute_metrics\n",
        ")\n",
        "\n",
        "trainer.train()\n",
        "print(\"training done\")\n"
      ],
      "metadata": {
        "colab": {
          "base_uri": "https://localhost:8080/",
          "height": 349
        },
        "id": "yC2fVX8Iluaj",
        "outputId": "68fb97a8-ae85-45da-f20c-dc14d2bd632b"
      },
      "execution_count": 13,
      "outputs": [
        {
          "metadata": {
            "tags": null
          },
          "name": "stderr",
          "output_type": "stream",
          "text": [
            "/tmp/ipython-input-3300449578.py:19: FutureWarning: `tokenizer` is deprecated and will be removed in version 5.0.0 for `Seq2SeqTrainer.__init__`. Use `processing_class` instead.\n",
            "  trainer = Seq2SeqTrainer(\n"
          ]
        },
        {
          "data": {
            "text/html": [
              "\n",
              "    <div>\n",
              "      \n",
              "      <progress value='2028' max='3750' style='width:300px; height:20px; vertical-align: middle;'></progress>\n",
              "      [2028/3750 25:41 < 21:49, 1.31 it/s, Epoch 1.62/3]\n",
              "    </div>\n",
              "    <table border=\"1\" class=\"dataframe\">\n",
              "  <thead>\n",
              " <tr style=\"text-align: left;\">\n",
              "      <th>Epoch</th>\n",
              "      <th>Training Loss</th>\n",
              "      <th>Validation Loss</th>\n",
              "      <th>Rouge1</th>\n",
              "      <th>Rouge2</th>\n",
              "      <th>Rougel</th>\n",
              "    </tr>\n",
              "  </thead>\n",
              "  <tbody>\n",
              "    <tr>\n",
              "      <td>1</td>\n",
              "      <td>1.511700</td>\n",
              "      <td>1.572908</td>\n",
              "      <td>25.691808</td>\n",
              "      <td>12.386694</td>\n",
              "      <td>20.933471</td>\n",
              "    </tr>\n",
              "  </tbody>\n",
              "</table><p>"
            ],
            "text/plain": [
              "<IPython.core.display.HTML object>"
            ]
          },
          "metadata": {},
          "output_type": "display_data"
        },
        {
          "output_type": "display_data",
          "data": {
            "text/plain": [
              "<IPython.core.display.HTML object>"
            ],
            "text/html": [
              "\n",
              "    <div>\n",
              "      \n",
              "      <progress value='3750' max='3750' style='width:300px; height:20px; vertical-align: middle;'></progress>\n",
              "      [3750/3750 49:58, Epoch 3/3]\n",
              "    </div>\n",
              "    <table border=\"1\" class=\"dataframe\">\n",
              "  <thead>\n",
              " <tr style=\"text-align: left;\">\n",
              "      <th>Epoch</th>\n",
              "      <th>Training Loss</th>\n",
              "      <th>Validation Loss</th>\n",
              "      <th>Rouge1</th>\n",
              "      <th>Rouge2</th>\n",
              "      <th>Rougel</th>\n",
              "    </tr>\n",
              "  </thead>\n",
              "  <tbody>\n",
              "    <tr>\n",
              "      <td>1</td>\n",
              "      <td>1.511700</td>\n",
              "      <td>1.572908</td>\n",
              "      <td>25.691808</td>\n",
              "      <td>12.386694</td>\n",
              "      <td>20.933471</td>\n",
              "    </tr>\n",
              "    <tr>\n",
              "      <td>2</td>\n",
              "      <td>1.549200</td>\n",
              "      <td>1.562252</td>\n",
              "      <td>25.547476</td>\n",
              "      <td>12.368270</td>\n",
              "      <td>20.951884</td>\n",
              "    </tr>\n",
              "    <tr>\n",
              "      <td>3</td>\n",
              "      <td>1.565300</td>\n",
              "      <td>1.564956</td>\n",
              "      <td>25.260180</td>\n",
              "      <td>11.969481</td>\n",
              "      <td>20.710637</td>\n",
              "    </tr>\n",
              "  </tbody>\n",
              "</table><p>"
            ]
          },
          "metadata": {}
        },
        {
          "output_type": "stream",
          "name": "stderr",
          "text": [
            "There were missing keys in the checkpoint model loaded: ['encoder.embed_tokens.weight', 'decoder.embed_tokens.weight', 'lm_head.weight'].\n"
          ]
        },
        {
          "output_type": "stream",
          "name": "stdout",
          "text": [
            "training done\n"
          ]
        }
      ]
    },
    {
      "cell_type": "markdown",
      "source": [
        "**model evaluation**"
      ],
      "metadata": {
        "id": "_FIXCnnVyRwf"
      }
    },
    {
      "cell_type": "code",
      "source": [
        "results = trainer.evaluate()\n",
        "print(f\"rouge-1: {results['eval_rouge1']:.2f}\")\n",
        "print(f\"rouge-2: {results['eval_rouge2']:.2f}\")\n",
        "print(f\"rouge-L: {results['eval_rougeL']:.2f}\")\n",
        "\n",
        "save_path = \"/content/drive/MyDrive/ANLP/project_2/task_3/t5_finetuned_summarizer\"\n",
        "trainer.save_model(save_path)\n",
        "tokenizer.save_pretrained(save_path)\n",
        "print(\"model saved to /content/drive/MyDrive/ANLP/project_2/task_3/t5_finetuned_summarizer \")"
      ],
      "metadata": {
        "colab": {
          "base_uri": "https://localhost:8080/",
          "height": 106
        },
        "id": "fLHgkfl3yUzW",
        "outputId": "682f066d-3ac1-4960-c959-0bfa6dd8fd7a"
      },
      "execution_count": 14,
      "outputs": [
        {
          "output_type": "display_data",
          "data": {
            "text/plain": [
              "<IPython.core.display.HTML object>"
            ],
            "text/html": [
              "\n",
              "    <div>\n",
              "      \n",
              "      <progress value='125' max='125' style='width:300px; height:20px; vertical-align: middle;'></progress>\n",
              "      [125/125 02:30]\n",
              "    </div>\n",
              "    "
            ]
          },
          "metadata": {}
        },
        {
          "output_type": "stream",
          "name": "stdout",
          "text": [
            "rouge-1: 25.55\n",
            "rouge-2: 12.37\n",
            "rouge-L: 20.95\n",
            "model saved to /content/drive/MyDrive/ANLP/project_2/task_3/t5_finetuned_summarizer \n"
          ]
        }
      ]
    },
    {
      "cell_type": "markdown",
      "source": [
        "**Test**"
      ],
      "metadata": {
        "id": "SEZVItOOz_9Z"
      }
    },
    {
      "cell_type": "code",
      "source": [
        "device = torch.device(\"cuda\" if torch.cuda.is_available() else \"cpu\")\n",
        "model.to(device)\n",
        "model.eval()\n",
        "\n",
        "def generate_summary(text):\n",
        "    input_text = \"summarize: \" + text\n",
        "    inputs = tokenizer(input_text, return_tensors=\"pt\", max_length=MAX_INPUT_LEN, truncation=True).to(device)\n",
        "    with torch.no_grad():\n",
        "        outputs = model.generate(\n",
        "            inputs[\"input_ids\"],\n",
        "            max_length=MAX_TARGET_LEN,\n",
        "            num_beams=4,\n",
        "            early_stopping=True\n",
        "        )\n",
        "    return tokenizer.decode(outputs[0], skip_special_tokens=True)\n",
        "\n",
        "for i in range(3):\n",
        "    article = test_data.iloc[i]['article']\n",
        "    ref = test_data.iloc[i]['highlights']\n",
        "    gen = generate_summary(article)\n",
        "\n",
        "    print(f\"\\ntest {i+1}\")\n",
        "    print(f\"Article Preview: {article[:200]}...\")\n",
        "    print(f\"\\nReference Summary:\\n{ref}\\n\")\n",
        "    print(f\"Generated Summary:\\n{gen}\")\n"
      ],
      "metadata": {
        "id": "wHA4vZ8riIa-",
        "colab": {
          "base_uri": "https://localhost:8080/"
        },
        "outputId": "a842d9df-ea3d-4d73-d28c-6dc4a6efb574"
      },
      "execution_count": 17,
      "outputs": [
        {
          "output_type": "stream",
          "name": "stdout",
          "text": [
            "\n",
            "test 1\n",
            "Article Preview: Ever noticed how plane seats appear to be getting smaller and smaller? With increasing numbers of people taking to the skies, some experts are questioning if having such packed out planes is putting p...\n",
            "\n",
            "Reference Summary:\n",
            "Experts question if  packed out planes are putting passengers at risk .\n",
            "U.S consumer advisory group says minimum space must be stipulated .\n",
            "Safety tests conducted on planes with more leg room than airlines offer .\n",
            "\n",
            "Generated Summary:\n",
            "Tests conducted by the FAA use planes with a 31 inch pitch between each row of seats, a standard which on some airlines has decreased . Many economy seats on United Airlines have 30 inches of space, while some airlines offer as little as 28 inches .\n",
            "\n",
            "test 2\n",
            "Article Preview: A drunk teenage boy had to be rescued by security after jumping into a lions' enclosure at a zoo in western India. Rahul Kumar, 17, clambered over the enclosure fence at the Kamla Nehru Zoological Par...\n",
            "\n",
            "Reference Summary:\n",
            "Drunk teenage boy climbed into lion enclosure at zoo in west India .\n",
            "Rahul Kumar, 17, ran towards animals shouting 'Today I kill a lion!'\n",
            "Fortunately he fell into a moat before reaching lions and was rescued .\n",
            "\n",
            "Generated Summary:\n",
            "Rahul Kumar, 17, clambered over the enclosure fence at the Kamla Nehru Zoological Park in Ahmedabad . He began running towards the animals shouting 'Today I kill a lion or a lion kills me!' Mr Kumar explained afterwards that he was drunk and 'thought I'd stand a good chance'\n",
            "\n",
            "test 3\n",
            "Article Preview: Dougie Freedman is on the verge of agreeing a new two-year deal to remain at Nottingham Forest. Freedman has stabilised Forest since he replaced cult hero Stuart Pearce and the club's owners are pleas...\n",
            "\n",
            "Reference Summary:\n",
            "Nottingham Forest are close to extending Dougie Freedman's contract .\n",
            "The Forest boss took over from former manager Stuart Pearce in February .\n",
            "Freedman has since lead the club to ninth in the Championship .\n",
            "\n",
            "Generated Summary:\n",
            "Dougie Freedman is on the verge of agreeing a new two-year deal . Freedman replaced Stuart Pearce at Nottingham Forest in February . The club's owners are pleased with the job he has done at the City Ground .\n"
          ]
        }
      ]
    }
  ],
  "metadata": {
    "accelerator": "GPU",
    "colab": {
      "gpuType": "T4",
      "provenance": []
    },
    "kernelspec": {
      "display_name": "Python 3",
      "name": "python3"
    },
    "language_info": {
      "name": "python"
    },
    "widgets": {
      "application/vnd.jupyter.widget-state+json": {
        "7547114825a849769392ff3ef1b68288": {
          "model_module": "@jupyter-widgets/controls",
          "model_name": "HBoxModel",
          "model_module_version": "1.5.0",
          "state": {
            "_dom_classes": [],
            "_model_module": "@jupyter-widgets/controls",
            "_model_module_version": "1.5.0",
            "_model_name": "HBoxModel",
            "_view_count": null,
            "_view_module": "@jupyter-widgets/controls",
            "_view_module_version": "1.5.0",
            "_view_name": "HBoxView",
            "box_style": "",
            "children": [
              "IPY_MODEL_8a89a67ad759442799a8c89a4f2481af",
              "IPY_MODEL_ba6045c621484944be91c197af2ab37e",
              "IPY_MODEL_06dfd8783a6b42fe83863b2ff431db23"
            ],
            "layout": "IPY_MODEL_9ff4be302261449cacb1fdebae6916fe"
          }
        },
        "8a89a67ad759442799a8c89a4f2481af": {
          "model_module": "@jupyter-widgets/controls",
          "model_name": "HTMLModel",
          "model_module_version": "1.5.0",
          "state": {
            "_dom_classes": [],
            "_model_module": "@jupyter-widgets/controls",
            "_model_module_version": "1.5.0",
            "_model_name": "HTMLModel",
            "_view_count": null,
            "_view_module": "@jupyter-widgets/controls",
            "_view_module_version": "1.5.0",
            "_view_name": "HTMLView",
            "description": "",
            "description_tooltip": null,
            "layout": "IPY_MODEL_93afd0c5a0054bfc8f7f6c29f1440535",
            "placeholder": "​",
            "style": "IPY_MODEL_21a3a63ac2e242caad8627ab6f8417dd",
            "value": "Map: 100%"
          }
        },
        "ba6045c621484944be91c197af2ab37e": {
          "model_module": "@jupyter-widgets/controls",
          "model_name": "FloatProgressModel",
          "model_module_version": "1.5.0",
          "state": {
            "_dom_classes": [],
            "_model_module": "@jupyter-widgets/controls",
            "_model_module_version": "1.5.0",
            "_model_name": "FloatProgressModel",
            "_view_count": null,
            "_view_module": "@jupyter-widgets/controls",
            "_view_module_version": "1.5.0",
            "_view_name": "ProgressView",
            "bar_style": "success",
            "description": "",
            "description_tooltip": null,
            "layout": "IPY_MODEL_55781d7f25974e9fb3f2b05d02a01bdd",
            "max": 10000,
            "min": 0,
            "orientation": "horizontal",
            "style": "IPY_MODEL_e619a31828d44b8cbe8993835a7ad0cb",
            "value": 10000
          }
        },
        "06dfd8783a6b42fe83863b2ff431db23": {
          "model_module": "@jupyter-widgets/controls",
          "model_name": "HTMLModel",
          "model_module_version": "1.5.0",
          "state": {
            "_dom_classes": [],
            "_model_module": "@jupyter-widgets/controls",
            "_model_module_version": "1.5.0",
            "_model_name": "HTMLModel",
            "_view_count": null,
            "_view_module": "@jupyter-widgets/controls",
            "_view_module_version": "1.5.0",
            "_view_name": "HTMLView",
            "description": "",
            "description_tooltip": null,
            "layout": "IPY_MODEL_e9e136f3330441c4bd10c9a2348b026d",
            "placeholder": "​",
            "style": "IPY_MODEL_fceb83dcd28f4cebb376861a42c75902",
            "value": " 10000/10000 [00:49&lt;00:00, 202.74 examples/s]"
          }
        },
        "9ff4be302261449cacb1fdebae6916fe": {
          "model_module": "@jupyter-widgets/base",
          "model_name": "LayoutModel",
          "model_module_version": "1.2.0",
          "state": {
            "_model_module": "@jupyter-widgets/base",
            "_model_module_version": "1.2.0",
            "_model_name": "LayoutModel",
            "_view_count": null,
            "_view_module": "@jupyter-widgets/base",
            "_view_module_version": "1.2.0",
            "_view_name": "LayoutView",
            "align_content": null,
            "align_items": null,
            "align_self": null,
            "border": null,
            "bottom": null,
            "display": null,
            "flex": null,
            "flex_flow": null,
            "grid_area": null,
            "grid_auto_columns": null,
            "grid_auto_flow": null,
            "grid_auto_rows": null,
            "grid_column": null,
            "grid_gap": null,
            "grid_row": null,
            "grid_template_areas": null,
            "grid_template_columns": null,
            "grid_template_rows": null,
            "height": null,
            "justify_content": null,
            "justify_items": null,
            "left": null,
            "margin": null,
            "max_height": null,
            "max_width": null,
            "min_height": null,
            "min_width": null,
            "object_fit": null,
            "object_position": null,
            "order": null,
            "overflow": null,
            "overflow_x": null,
            "overflow_y": null,
            "padding": null,
            "right": null,
            "top": null,
            "visibility": null,
            "width": null
          }
        },
        "93afd0c5a0054bfc8f7f6c29f1440535": {
          "model_module": "@jupyter-widgets/base",
          "model_name": "LayoutModel",
          "model_module_version": "1.2.0",
          "state": {
            "_model_module": "@jupyter-widgets/base",
            "_model_module_version": "1.2.0",
            "_model_name": "LayoutModel",
            "_view_count": null,
            "_view_module": "@jupyter-widgets/base",
            "_view_module_version": "1.2.0",
            "_view_name": "LayoutView",
            "align_content": null,
            "align_items": null,
            "align_self": null,
            "border": null,
            "bottom": null,
            "display": null,
            "flex": null,
            "flex_flow": null,
            "grid_area": null,
            "grid_auto_columns": null,
            "grid_auto_flow": null,
            "grid_auto_rows": null,
            "grid_column": null,
            "grid_gap": null,
            "grid_row": null,
            "grid_template_areas": null,
            "grid_template_columns": null,
            "grid_template_rows": null,
            "height": null,
            "justify_content": null,
            "justify_items": null,
            "left": null,
            "margin": null,
            "max_height": null,
            "max_width": null,
            "min_height": null,
            "min_width": null,
            "object_fit": null,
            "object_position": null,
            "order": null,
            "overflow": null,
            "overflow_x": null,
            "overflow_y": null,
            "padding": null,
            "right": null,
            "top": null,
            "visibility": null,
            "width": null
          }
        },
        "21a3a63ac2e242caad8627ab6f8417dd": {
          "model_module": "@jupyter-widgets/controls",
          "model_name": "DescriptionStyleModel",
          "model_module_version": "1.5.0",
          "state": {
            "_model_module": "@jupyter-widgets/controls",
            "_model_module_version": "1.5.0",
            "_model_name": "DescriptionStyleModel",
            "_view_count": null,
            "_view_module": "@jupyter-widgets/base",
            "_view_module_version": "1.2.0",
            "_view_name": "StyleView",
            "description_width": ""
          }
        },
        "55781d7f25974e9fb3f2b05d02a01bdd": {
          "model_module": "@jupyter-widgets/base",
          "model_name": "LayoutModel",
          "model_module_version": "1.2.0",
          "state": {
            "_model_module": "@jupyter-widgets/base",
            "_model_module_version": "1.2.0",
            "_model_name": "LayoutModel",
            "_view_count": null,
            "_view_module": "@jupyter-widgets/base",
            "_view_module_version": "1.2.0",
            "_view_name": "LayoutView",
            "align_content": null,
            "align_items": null,
            "align_self": null,
            "border": null,
            "bottom": null,
            "display": null,
            "flex": null,
            "flex_flow": null,
            "grid_area": null,
            "grid_auto_columns": null,
            "grid_auto_flow": null,
            "grid_auto_rows": null,
            "grid_column": null,
            "grid_gap": null,
            "grid_row": null,
            "grid_template_areas": null,
            "grid_template_columns": null,
            "grid_template_rows": null,
            "height": null,
            "justify_content": null,
            "justify_items": null,
            "left": null,
            "margin": null,
            "max_height": null,
            "max_width": null,
            "min_height": null,
            "min_width": null,
            "object_fit": null,
            "object_position": null,
            "order": null,
            "overflow": null,
            "overflow_x": null,
            "overflow_y": null,
            "padding": null,
            "right": null,
            "top": null,
            "visibility": null,
            "width": null
          }
        },
        "e619a31828d44b8cbe8993835a7ad0cb": {
          "model_module": "@jupyter-widgets/controls",
          "model_name": "ProgressStyleModel",
          "model_module_version": "1.5.0",
          "state": {
            "_model_module": "@jupyter-widgets/controls",
            "_model_module_version": "1.5.0",
            "_model_name": "ProgressStyleModel",
            "_view_count": null,
            "_view_module": "@jupyter-widgets/base",
            "_view_module_version": "1.2.0",
            "_view_name": "StyleView",
            "bar_color": null,
            "description_width": ""
          }
        },
        "e9e136f3330441c4bd10c9a2348b026d": {
          "model_module": "@jupyter-widgets/base",
          "model_name": "LayoutModel",
          "model_module_version": "1.2.0",
          "state": {
            "_model_module": "@jupyter-widgets/base",
            "_model_module_version": "1.2.0",
            "_model_name": "LayoutModel",
            "_view_count": null,
            "_view_module": "@jupyter-widgets/base",
            "_view_module_version": "1.2.0",
            "_view_name": "LayoutView",
            "align_content": null,
            "align_items": null,
            "align_self": null,
            "border": null,
            "bottom": null,
            "display": null,
            "flex": null,
            "flex_flow": null,
            "grid_area": null,
            "grid_auto_columns": null,
            "grid_auto_flow": null,
            "grid_auto_rows": null,
            "grid_column": null,
            "grid_gap": null,
            "grid_row": null,
            "grid_template_areas": null,
            "grid_template_columns": null,
            "grid_template_rows": null,
            "height": null,
            "justify_content": null,
            "justify_items": null,
            "left": null,
            "margin": null,
            "max_height": null,
            "max_width": null,
            "min_height": null,
            "min_width": null,
            "object_fit": null,
            "object_position": null,
            "order": null,
            "overflow": null,
            "overflow_x": null,
            "overflow_y": null,
            "padding": null,
            "right": null,
            "top": null,
            "visibility": null,
            "width": null
          }
        },
        "fceb83dcd28f4cebb376861a42c75902": {
          "model_module": "@jupyter-widgets/controls",
          "model_name": "DescriptionStyleModel",
          "model_module_version": "1.5.0",
          "state": {
            "_model_module": "@jupyter-widgets/controls",
            "_model_module_version": "1.5.0",
            "_model_name": "DescriptionStyleModel",
            "_view_count": null,
            "_view_module": "@jupyter-widgets/base",
            "_view_module_version": "1.2.0",
            "_view_name": "StyleView",
            "description_width": ""
          }
        },
        "0022bffc7d1940f1bac7b9b6088f0e95": {
          "model_module": "@jupyter-widgets/controls",
          "model_name": "HBoxModel",
          "model_module_version": "1.5.0",
          "state": {
            "_dom_classes": [],
            "_model_module": "@jupyter-widgets/controls",
            "_model_module_version": "1.5.0",
            "_model_name": "HBoxModel",
            "_view_count": null,
            "_view_module": "@jupyter-widgets/controls",
            "_view_module_version": "1.5.0",
            "_view_name": "HBoxView",
            "box_style": "",
            "children": [
              "IPY_MODEL_28864d6cd25d44afbdcec6fa2896fd45",
              "IPY_MODEL_d9362519dab5419a923a8b25f8cea6a2",
              "IPY_MODEL_c4dbf3350b2a4c26b05784474ccdbad4"
            ],
            "layout": "IPY_MODEL_adcbe722ad9a476482ebf0d894bbfec7"
          }
        },
        "28864d6cd25d44afbdcec6fa2896fd45": {
          "model_module": "@jupyter-widgets/controls",
          "model_name": "HTMLModel",
          "model_module_version": "1.5.0",
          "state": {
            "_dom_classes": [],
            "_model_module": "@jupyter-widgets/controls",
            "_model_module_version": "1.5.0",
            "_model_name": "HTMLModel",
            "_view_count": null,
            "_view_module": "@jupyter-widgets/controls",
            "_view_module_version": "1.5.0",
            "_view_name": "HTMLView",
            "description": "",
            "description_tooltip": null,
            "layout": "IPY_MODEL_a442324650c94306af9ed3af5c808eb6",
            "placeholder": "​",
            "style": "IPY_MODEL_ecfa3032706c4754a7930d4cd014c772",
            "value": "Map: 100%"
          }
        },
        "d9362519dab5419a923a8b25f8cea6a2": {
          "model_module": "@jupyter-widgets/controls",
          "model_name": "FloatProgressModel",
          "model_module_version": "1.5.0",
          "state": {
            "_dom_classes": [],
            "_model_module": "@jupyter-widgets/controls",
            "_model_module_version": "1.5.0",
            "_model_name": "FloatProgressModel",
            "_view_count": null,
            "_view_module": "@jupyter-widgets/controls",
            "_view_module_version": "1.5.0",
            "_view_name": "ProgressView",
            "bar_style": "success",
            "description": "",
            "description_tooltip": null,
            "layout": "IPY_MODEL_b76d1be6306e479580bffc2a39c51f00",
            "max": 1000,
            "min": 0,
            "orientation": "horizontal",
            "style": "IPY_MODEL_a7f476560bc54b12b9ac4f420803334b",
            "value": 1000
          }
        },
        "c4dbf3350b2a4c26b05784474ccdbad4": {
          "model_module": "@jupyter-widgets/controls",
          "model_name": "HTMLModel",
          "model_module_version": "1.5.0",
          "state": {
            "_dom_classes": [],
            "_model_module": "@jupyter-widgets/controls",
            "_model_module_version": "1.5.0",
            "_model_name": "HTMLModel",
            "_view_count": null,
            "_view_module": "@jupyter-widgets/controls",
            "_view_module_version": "1.5.0",
            "_view_name": "HTMLView",
            "description": "",
            "description_tooltip": null,
            "layout": "IPY_MODEL_7d12495ee85c46ffafb986d87f5a6f86",
            "placeholder": "​",
            "style": "IPY_MODEL_875788f92ac14e50b2759a71bbf95ba0",
            "value": " 1000/1000 [00:04&lt;00:00, 226.28 examples/s]"
          }
        },
        "adcbe722ad9a476482ebf0d894bbfec7": {
          "model_module": "@jupyter-widgets/base",
          "model_name": "LayoutModel",
          "model_module_version": "1.2.0",
          "state": {
            "_model_module": "@jupyter-widgets/base",
            "_model_module_version": "1.2.0",
            "_model_name": "LayoutModel",
            "_view_count": null,
            "_view_module": "@jupyter-widgets/base",
            "_view_module_version": "1.2.0",
            "_view_name": "LayoutView",
            "align_content": null,
            "align_items": null,
            "align_self": null,
            "border": null,
            "bottom": null,
            "display": null,
            "flex": null,
            "flex_flow": null,
            "grid_area": null,
            "grid_auto_columns": null,
            "grid_auto_flow": null,
            "grid_auto_rows": null,
            "grid_column": null,
            "grid_gap": null,
            "grid_row": null,
            "grid_template_areas": null,
            "grid_template_columns": null,
            "grid_template_rows": null,
            "height": null,
            "justify_content": null,
            "justify_items": null,
            "left": null,
            "margin": null,
            "max_height": null,
            "max_width": null,
            "min_height": null,
            "min_width": null,
            "object_fit": null,
            "object_position": null,
            "order": null,
            "overflow": null,
            "overflow_x": null,
            "overflow_y": null,
            "padding": null,
            "right": null,
            "top": null,
            "visibility": null,
            "width": null
          }
        },
        "a442324650c94306af9ed3af5c808eb6": {
          "model_module": "@jupyter-widgets/base",
          "model_name": "LayoutModel",
          "model_module_version": "1.2.0",
          "state": {
            "_model_module": "@jupyter-widgets/base",
            "_model_module_version": "1.2.0",
            "_model_name": "LayoutModel",
            "_view_count": null,
            "_view_module": "@jupyter-widgets/base",
            "_view_module_version": "1.2.0",
            "_view_name": "LayoutView",
            "align_content": null,
            "align_items": null,
            "align_self": null,
            "border": null,
            "bottom": null,
            "display": null,
            "flex": null,
            "flex_flow": null,
            "grid_area": null,
            "grid_auto_columns": null,
            "grid_auto_flow": null,
            "grid_auto_rows": null,
            "grid_column": null,
            "grid_gap": null,
            "grid_row": null,
            "grid_template_areas": null,
            "grid_template_columns": null,
            "grid_template_rows": null,
            "height": null,
            "justify_content": null,
            "justify_items": null,
            "left": null,
            "margin": null,
            "max_height": null,
            "max_width": null,
            "min_height": null,
            "min_width": null,
            "object_fit": null,
            "object_position": null,
            "order": null,
            "overflow": null,
            "overflow_x": null,
            "overflow_y": null,
            "padding": null,
            "right": null,
            "top": null,
            "visibility": null,
            "width": null
          }
        },
        "ecfa3032706c4754a7930d4cd014c772": {
          "model_module": "@jupyter-widgets/controls",
          "model_name": "DescriptionStyleModel",
          "model_module_version": "1.5.0",
          "state": {
            "_model_module": "@jupyter-widgets/controls",
            "_model_module_version": "1.5.0",
            "_model_name": "DescriptionStyleModel",
            "_view_count": null,
            "_view_module": "@jupyter-widgets/base",
            "_view_module_version": "1.2.0",
            "_view_name": "StyleView",
            "description_width": ""
          }
        },
        "b76d1be6306e479580bffc2a39c51f00": {
          "model_module": "@jupyter-widgets/base",
          "model_name": "LayoutModel",
          "model_module_version": "1.2.0",
          "state": {
            "_model_module": "@jupyter-widgets/base",
            "_model_module_version": "1.2.0",
            "_model_name": "LayoutModel",
            "_view_count": null,
            "_view_module": "@jupyter-widgets/base",
            "_view_module_version": "1.2.0",
            "_view_name": "LayoutView",
            "align_content": null,
            "align_items": null,
            "align_self": null,
            "border": null,
            "bottom": null,
            "display": null,
            "flex": null,
            "flex_flow": null,
            "grid_area": null,
            "grid_auto_columns": null,
            "grid_auto_flow": null,
            "grid_auto_rows": null,
            "grid_column": null,
            "grid_gap": null,
            "grid_row": null,
            "grid_template_areas": null,
            "grid_template_columns": null,
            "grid_template_rows": null,
            "height": null,
            "justify_content": null,
            "justify_items": null,
            "left": null,
            "margin": null,
            "max_height": null,
            "max_width": null,
            "min_height": null,
            "min_width": null,
            "object_fit": null,
            "object_position": null,
            "order": null,
            "overflow": null,
            "overflow_x": null,
            "overflow_y": null,
            "padding": null,
            "right": null,
            "top": null,
            "visibility": null,
            "width": null
          }
        },
        "a7f476560bc54b12b9ac4f420803334b": {
          "model_module": "@jupyter-widgets/controls",
          "model_name": "ProgressStyleModel",
          "model_module_version": "1.5.0",
          "state": {
            "_model_module": "@jupyter-widgets/controls",
            "_model_module_version": "1.5.0",
            "_model_name": "ProgressStyleModel",
            "_view_count": null,
            "_view_module": "@jupyter-widgets/base",
            "_view_module_version": "1.2.0",
            "_view_name": "StyleView",
            "bar_color": null,
            "description_width": ""
          }
        },
        "7d12495ee85c46ffafb986d87f5a6f86": {
          "model_module": "@jupyter-widgets/base",
          "model_name": "LayoutModel",
          "model_module_version": "1.2.0",
          "state": {
            "_model_module": "@jupyter-widgets/base",
            "_model_module_version": "1.2.0",
            "_model_name": "LayoutModel",
            "_view_count": null,
            "_view_module": "@jupyter-widgets/base",
            "_view_module_version": "1.2.0",
            "_view_name": "LayoutView",
            "align_content": null,
            "align_items": null,
            "align_self": null,
            "border": null,
            "bottom": null,
            "display": null,
            "flex": null,
            "flex_flow": null,
            "grid_area": null,
            "grid_auto_columns": null,
            "grid_auto_flow": null,
            "grid_auto_rows": null,
            "grid_column": null,
            "grid_gap": null,
            "grid_row": null,
            "grid_template_areas": null,
            "grid_template_columns": null,
            "grid_template_rows": null,
            "height": null,
            "justify_content": null,
            "justify_items": null,
            "left": null,
            "margin": null,
            "max_height": null,
            "max_width": null,
            "min_height": null,
            "min_width": null,
            "object_fit": null,
            "object_position": null,
            "order": null,
            "overflow": null,
            "overflow_x": null,
            "overflow_y": null,
            "padding": null,
            "right": null,
            "top": null,
            "visibility": null,
            "width": null
          }
        },
        "875788f92ac14e50b2759a71bbf95ba0": {
          "model_module": "@jupyter-widgets/controls",
          "model_name": "DescriptionStyleModel",
          "model_module_version": "1.5.0",
          "state": {
            "_model_module": "@jupyter-widgets/controls",
            "_model_module_version": "1.5.0",
            "_model_name": "DescriptionStyleModel",
            "_view_count": null,
            "_view_module": "@jupyter-widgets/base",
            "_view_module_version": "1.2.0",
            "_view_name": "StyleView",
            "description_width": ""
          }
        },
        "75e1d01667064eff8a28dfee49696486": {
          "model_module": "@jupyter-widgets/controls",
          "model_name": "HBoxModel",
          "model_module_version": "1.5.0",
          "state": {
            "_dom_classes": [],
            "_model_module": "@jupyter-widgets/controls",
            "_model_module_version": "1.5.0",
            "_model_name": "HBoxModel",
            "_view_count": null,
            "_view_module": "@jupyter-widgets/controls",
            "_view_module_version": "1.5.0",
            "_view_name": "HBoxView",
            "box_style": "",
            "children": [
              "IPY_MODEL_b8c1d9d725c646b5b6b12c764dceab02",
              "IPY_MODEL_1a9a70061cde4a7187b9104f3ec4272c",
              "IPY_MODEL_7d2be60aa16e41c8ba46a7c1ec674f2e"
            ],
            "layout": "IPY_MODEL_01ce84767625450084069037683dac02"
          }
        },
        "b8c1d9d725c646b5b6b12c764dceab02": {
          "model_module": "@jupyter-widgets/controls",
          "model_name": "HTMLModel",
          "model_module_version": "1.5.0",
          "state": {
            "_dom_classes": [],
            "_model_module": "@jupyter-widgets/controls",
            "_model_module_version": "1.5.0",
            "_model_name": "HTMLModel",
            "_view_count": null,
            "_view_module": "@jupyter-widgets/controls",
            "_view_module_version": "1.5.0",
            "_view_name": "HTMLView",
            "description": "",
            "description_tooltip": null,
            "layout": "IPY_MODEL_f4de4f9e09f24cfbb2bc9c0bc00eb917",
            "placeholder": "​",
            "style": "IPY_MODEL_80b62db9ac93426ea8a5e325562eb31a",
            "value": "Map: 100%"
          }
        },
        "1a9a70061cde4a7187b9104f3ec4272c": {
          "model_module": "@jupyter-widgets/controls",
          "model_name": "FloatProgressModel",
          "model_module_version": "1.5.0",
          "state": {
            "_dom_classes": [],
            "_model_module": "@jupyter-widgets/controls",
            "_model_module_version": "1.5.0",
            "_model_name": "FloatProgressModel",
            "_view_count": null,
            "_view_module": "@jupyter-widgets/controls",
            "_view_module_version": "1.5.0",
            "_view_name": "ProgressView",
            "bar_style": "success",
            "description": "",
            "description_tooltip": null,
            "layout": "IPY_MODEL_315b71f48b4b41bb8bda7c471fb25a55",
            "max": 11490,
            "min": 0,
            "orientation": "horizontal",
            "style": "IPY_MODEL_976e560bbbf34330838ee984dd99dada",
            "value": 11490
          }
        },
        "7d2be60aa16e41c8ba46a7c1ec674f2e": {
          "model_module": "@jupyter-widgets/controls",
          "model_name": "HTMLModel",
          "model_module_version": "1.5.0",
          "state": {
            "_dom_classes": [],
            "_model_module": "@jupyter-widgets/controls",
            "_model_module_version": "1.5.0",
            "_model_name": "HTMLModel",
            "_view_count": null,
            "_view_module": "@jupyter-widgets/controls",
            "_view_module_version": "1.5.0",
            "_view_name": "HTMLView",
            "description": "",
            "description_tooltip": null,
            "layout": "IPY_MODEL_b32cdc87704148e9bcd0122994be3b74",
            "placeholder": "​",
            "style": "IPY_MODEL_0a9d8b85b1dc4e10b3e1b853a07669b7",
            "value": " 11490/11490 [01:06&lt;00:00, 185.53 examples/s]"
          }
        },
        "01ce84767625450084069037683dac02": {
          "model_module": "@jupyter-widgets/base",
          "model_name": "LayoutModel",
          "model_module_version": "1.2.0",
          "state": {
            "_model_module": "@jupyter-widgets/base",
            "_model_module_version": "1.2.0",
            "_model_name": "LayoutModel",
            "_view_count": null,
            "_view_module": "@jupyter-widgets/base",
            "_view_module_version": "1.2.0",
            "_view_name": "LayoutView",
            "align_content": null,
            "align_items": null,
            "align_self": null,
            "border": null,
            "bottom": null,
            "display": null,
            "flex": null,
            "flex_flow": null,
            "grid_area": null,
            "grid_auto_columns": null,
            "grid_auto_flow": null,
            "grid_auto_rows": null,
            "grid_column": null,
            "grid_gap": null,
            "grid_row": null,
            "grid_template_areas": null,
            "grid_template_columns": null,
            "grid_template_rows": null,
            "height": null,
            "justify_content": null,
            "justify_items": null,
            "left": null,
            "margin": null,
            "max_height": null,
            "max_width": null,
            "min_height": null,
            "min_width": null,
            "object_fit": null,
            "object_position": null,
            "order": null,
            "overflow": null,
            "overflow_x": null,
            "overflow_y": null,
            "padding": null,
            "right": null,
            "top": null,
            "visibility": null,
            "width": null
          }
        },
        "f4de4f9e09f24cfbb2bc9c0bc00eb917": {
          "model_module": "@jupyter-widgets/base",
          "model_name": "LayoutModel",
          "model_module_version": "1.2.0",
          "state": {
            "_model_module": "@jupyter-widgets/base",
            "_model_module_version": "1.2.0",
            "_model_name": "LayoutModel",
            "_view_count": null,
            "_view_module": "@jupyter-widgets/base",
            "_view_module_version": "1.2.0",
            "_view_name": "LayoutView",
            "align_content": null,
            "align_items": null,
            "align_self": null,
            "border": null,
            "bottom": null,
            "display": null,
            "flex": null,
            "flex_flow": null,
            "grid_area": null,
            "grid_auto_columns": null,
            "grid_auto_flow": null,
            "grid_auto_rows": null,
            "grid_column": null,
            "grid_gap": null,
            "grid_row": null,
            "grid_template_areas": null,
            "grid_template_columns": null,
            "grid_template_rows": null,
            "height": null,
            "justify_content": null,
            "justify_items": null,
            "left": null,
            "margin": null,
            "max_height": null,
            "max_width": null,
            "min_height": null,
            "min_width": null,
            "object_fit": null,
            "object_position": null,
            "order": null,
            "overflow": null,
            "overflow_x": null,
            "overflow_y": null,
            "padding": null,
            "right": null,
            "top": null,
            "visibility": null,
            "width": null
          }
        },
        "80b62db9ac93426ea8a5e325562eb31a": {
          "model_module": "@jupyter-widgets/controls",
          "model_name": "DescriptionStyleModel",
          "model_module_version": "1.5.0",
          "state": {
            "_model_module": "@jupyter-widgets/controls",
            "_model_module_version": "1.5.0",
            "_model_name": "DescriptionStyleModel",
            "_view_count": null,
            "_view_module": "@jupyter-widgets/base",
            "_view_module_version": "1.2.0",
            "_view_name": "StyleView",
            "description_width": ""
          }
        },
        "315b71f48b4b41bb8bda7c471fb25a55": {
          "model_module": "@jupyter-widgets/base",
          "model_name": "LayoutModel",
          "model_module_version": "1.2.0",
          "state": {
            "_model_module": "@jupyter-widgets/base",
            "_model_module_version": "1.2.0",
            "_model_name": "LayoutModel",
            "_view_count": null,
            "_view_module": "@jupyter-widgets/base",
            "_view_module_version": "1.2.0",
            "_view_name": "LayoutView",
            "align_content": null,
            "align_items": null,
            "align_self": null,
            "border": null,
            "bottom": null,
            "display": null,
            "flex": null,
            "flex_flow": null,
            "grid_area": null,
            "grid_auto_columns": null,
            "grid_auto_flow": null,
            "grid_auto_rows": null,
            "grid_column": null,
            "grid_gap": null,
            "grid_row": null,
            "grid_template_areas": null,
            "grid_template_columns": null,
            "grid_template_rows": null,
            "height": null,
            "justify_content": null,
            "justify_items": null,
            "left": null,
            "margin": null,
            "max_height": null,
            "max_width": null,
            "min_height": null,
            "min_width": null,
            "object_fit": null,
            "object_position": null,
            "order": null,
            "overflow": null,
            "overflow_x": null,
            "overflow_y": null,
            "padding": null,
            "right": null,
            "top": null,
            "visibility": null,
            "width": null
          }
        },
        "976e560bbbf34330838ee984dd99dada": {
          "model_module": "@jupyter-widgets/controls",
          "model_name": "ProgressStyleModel",
          "model_module_version": "1.5.0",
          "state": {
            "_model_module": "@jupyter-widgets/controls",
            "_model_module_version": "1.5.0",
            "_model_name": "ProgressStyleModel",
            "_view_count": null,
            "_view_module": "@jupyter-widgets/base",
            "_view_module_version": "1.2.0",
            "_view_name": "StyleView",
            "bar_color": null,
            "description_width": ""
          }
        },
        "b32cdc87704148e9bcd0122994be3b74": {
          "model_module": "@jupyter-widgets/base",
          "model_name": "LayoutModel",
          "model_module_version": "1.2.0",
          "state": {
            "_model_module": "@jupyter-widgets/base",
            "_model_module_version": "1.2.0",
            "_model_name": "LayoutModel",
            "_view_count": null,
            "_view_module": "@jupyter-widgets/base",
            "_view_module_version": "1.2.0",
            "_view_name": "LayoutView",
            "align_content": null,
            "align_items": null,
            "align_self": null,
            "border": null,
            "bottom": null,
            "display": null,
            "flex": null,
            "flex_flow": null,
            "grid_area": null,
            "grid_auto_columns": null,
            "grid_auto_flow": null,
            "grid_auto_rows": null,
            "grid_column": null,
            "grid_gap": null,
            "grid_row": null,
            "grid_template_areas": null,
            "grid_template_columns": null,
            "grid_template_rows": null,
            "height": null,
            "justify_content": null,
            "justify_items": null,
            "left": null,
            "margin": null,
            "max_height": null,
            "max_width": null,
            "min_height": null,
            "min_width": null,
            "object_fit": null,
            "object_position": null,
            "order": null,
            "overflow": null,
            "overflow_x": null,
            "overflow_y": null,
            "padding": null,
            "right": null,
            "top": null,
            "visibility": null,
            "width": null
          }
        },
        "0a9d8b85b1dc4e10b3e1b853a07669b7": {
          "model_module": "@jupyter-widgets/controls",
          "model_name": "DescriptionStyleModel",
          "model_module_version": "1.5.0",
          "state": {
            "_model_module": "@jupyter-widgets/controls",
            "_model_module_version": "1.5.0",
            "_model_name": "DescriptionStyleModel",
            "_view_count": null,
            "_view_module": "@jupyter-widgets/base",
            "_view_module_version": "1.2.0",
            "_view_name": "StyleView",
            "description_width": ""
          }
        }
      }
    }
  },
  "nbformat": 4,
  "nbformat_minor": 0
}